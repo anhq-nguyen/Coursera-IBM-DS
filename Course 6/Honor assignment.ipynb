{
 "cells": [
  {
   "cell_type": "code",
   "execution_count": 37,
   "id": "1f7b1872-bb6a-4e14-a413-fc7ac301a8e2",
   "metadata": {},
   "outputs": [
    {
     "name": "stdout",
     "output_type": "stream",
     "text": [
      "The sql extension is already loaded. To reload it, use:\n",
      "  %reload_ext sql\n"
     ]
    }
   ],
   "source": [
    "%load_ext sql"
   ]
  },
  {
   "cell_type": "code",
   "execution_count": 38,
   "id": "31019cd3-ee3a-4b13-8d3e-5f5c34bb157e",
   "metadata": {},
   "outputs": [
    {
     "data": {
      "text/plain": [
       "'Connected: cqp94711@BLUDB'"
      ]
     },
     "execution_count": 38,
     "metadata": {},
     "output_type": "execute_result"
    }
   ],
   "source": [
    "%sql ibm_db_sa://cqp94711:***@fbd88901-ebdb-4a4f-a32e-9822b9fb237b.c1ogj3sd0tgtu0lqde00.databases.appdomain.cloud:32731/BLUDB?security=SSL"
   ]
  },
  {
   "cell_type": "code",
   "execution_count": 46,
   "id": "7f976a70-e0d8-4f35-bae0-762c03fb40a3",
   "metadata": {},
   "outputs": [
    {
     "name": "stdout",
     "output_type": "stream",
     "text": [
      " * ibm_db_sa://cqp94711:***@fbd88901-ebdb-4a4f-a32e-9822b9fb237b.c1ogj3sd0tgtu0lqde00.databases.appdomain.cloud:32731/BLUDB\n",
      "Done.\n"
     ]
    },
    {
     "data": {
      "text/html": [
       "<table>\n",
       "    <thead>\n",
       "        <tr>\n",
       "            <th>name_of_school</th>\n",
       "            <th>community_area_name</th>\n",
       "            <th>average_student_attendance</th>\n",
       "        </tr>\n",
       "    </thead>\n",
       "    <tbody>\n",
       "        <tr>\n",
       "            <td>George Washington Carver Military Academy High School</td>\n",
       "            <td>Riverdale</td>\n",
       "            <td>91.60%</td>\n",
       "        </tr>\n",
       "        <tr>\n",
       "            <td>George Washington Carver Primary School</td>\n",
       "            <td>Riverdale</td>\n",
       "            <td>90.90%</td>\n",
       "        </tr>\n",
       "        <tr>\n",
       "            <td>Ira F Aldridge Elementary School</td>\n",
       "            <td>Riverdale</td>\n",
       "            <td>92.90%</td>\n",
       "        </tr>\n",
       "        <tr>\n",
       "            <td>William E B Dubois Elementary School</td>\n",
       "            <td>Riverdale</td>\n",
       "            <td>93.30%</td>\n",
       "        </tr>\n",
       "    </tbody>\n",
       "</table>"
      ],
      "text/plain": [
       "[('George Washington Carver Military Academy High School', 'Riverdale', '91.60%'),\n",
       " ('George Washington Carver Primary School', 'Riverdale', '90.90%'),\n",
       " ('Ira F Aldridge Elementary School', 'Riverdale', '92.90%'),\n",
       " ('William E B Dubois Elementary School', 'Riverdale', '93.30%')]"
      ]
     },
     "execution_count": 46,
     "metadata": {},
     "output_type": "execute_result"
    }
   ],
   "source": [
    "%%sql\n",
    "SELECT PB.NAME_OF_SCHOOL, CD.COMMUNITY_AREA_NAME, PB.AVERAGE_STUDENT_ATTENDANCE\n",
    "FROM PUBLIC_SCHOOLS PB \n",
    "LEFT JOIN CENSUS_DATA CD\n",
    "ON PB.COMMUNITY_AREA_NUMBER=CD.COMMUNITY_AREA_NUMBER \n",
    "WHERE CD.HARDSHIP_INDEX=98"
   ]
  },
  {
   "cell_type": "code",
   "execution_count": 47,
   "id": "a6dad515-3438-44ad-a5ae-d97dae9d4452",
   "metadata": {},
   "outputs": [
    {
     "name": "stdout",
     "output_type": "stream",
     "text": [
      " * ibm_db_sa://cqp94711:***@fbd88901-ebdb-4a4f-a32e-9822b9fb237b.c1ogj3sd0tgtu0lqde00.databases.appdomain.cloud:32731/BLUDB\n",
      "Done.\n"
     ]
    },
    {
     "data": {
      "text/html": [
       "<table>\n",
       "    <thead>\n",
       "        <tr>\n",
       "            <th>case_number</th>\n",
       "            <th>primary_type</th>\n",
       "            <th>community_area_name</th>\n",
       "        </tr>\n",
       "    </thead>\n",
       "    <tbody>\n",
       "        <tr>\n",
       "            <td>HK577020</td>\n",
       "            <td>NARCOTICS</td>\n",
       "            <td>Rogers Park</td>\n",
       "        </tr>\n",
       "        <tr>\n",
       "            <td>HL725506</td>\n",
       "            <td>BATTERY</td>\n",
       "            <td>Lincoln Square</td>\n",
       "        </tr>\n",
       "        <tr>\n",
       "            <td>HH639427</td>\n",
       "            <td>BATTERY</td>\n",
       "            <td>Austin</td>\n",
       "        </tr>\n",
       "        <tr>\n",
       "            <td>HS200939</td>\n",
       "            <td>CRIMINAL DAMAGE</td>\n",
       "            <td>Austin</td>\n",
       "        </tr>\n",
       "        <tr>\n",
       "            <td>HT315369</td>\n",
       "            <td>ASSAULT</td>\n",
       "            <td>East Garfield Park</td>\n",
       "        </tr>\n",
       "        <tr>\n",
       "            <td>HP716225</td>\n",
       "            <td>BATTERY</td>\n",
       "            <td>Douglas</td>\n",
       "        </tr>\n",
       "        <tr>\n",
       "            <td>HL353697</td>\n",
       "            <td>BATTERY</td>\n",
       "            <td>South Shore</td>\n",
       "        </tr>\n",
       "        <tr>\n",
       "            <td>HS305355</td>\n",
       "            <td>NARCOTICS</td>\n",
       "            <td>Brighton Park</td>\n",
       "        </tr>\n",
       "        <tr>\n",
       "            <td>JA460432</td>\n",
       "            <td>BATTERY</td>\n",
       "            <td>Ashburn</td>\n",
       "        </tr>\n",
       "        <tr>\n",
       "            <td>HR585012</td>\n",
       "            <td>CRIMINAL TRESPASS</td>\n",
       "            <td>Ashburn</td>\n",
       "        </tr>\n",
       "        <tr>\n",
       "            <td>HH292682</td>\n",
       "            <td>PUBLIC PEACE VIOLATION</td>\n",
       "            <td>None</td>\n",
       "        </tr>\n",
       "        <tr>\n",
       "            <td>G635735</td>\n",
       "            <td>PUBLIC PEACE VIOLATION</td>\n",
       "            <td>None</td>\n",
       "        </tr>\n",
       "    </tbody>\n",
       "</table>"
      ],
      "text/plain": [
       "[('HK577020', 'NARCOTICS', 'Rogers Park'),\n",
       " ('HL725506', 'BATTERY', 'Lincoln Square'),\n",
       " ('HH639427', 'BATTERY', 'Austin'),\n",
       " ('HS200939', 'CRIMINAL DAMAGE', 'Austin'),\n",
       " ('HT315369', 'ASSAULT', 'East Garfield Park'),\n",
       " ('HP716225', 'BATTERY', 'Douglas'),\n",
       " ('HL353697', 'BATTERY', 'South Shore'),\n",
       " ('HS305355', 'NARCOTICS', 'Brighton Park'),\n",
       " ('JA460432', 'BATTERY', 'Ashburn'),\n",
       " ('HR585012', 'CRIMINAL TRESPASS', 'Ashburn'),\n",
       " ('HH292682', 'PUBLIC PEACE VIOLATION', None),\n",
       " ('G635735', 'PUBLIC PEACE VIOLATION', None)]"
      ]
     },
     "execution_count": 47,
     "metadata": {},
     "output_type": "execute_result"
    }
   ],
   "source": [
    "%%sql\n",
    "SELECT CR.CASE_NUMBER, CR.PRIMARY_TYPE, CE.COMMUNITY_AREA_NAME\n",
    "FROM CRIME_DATA CR\n",
    "LEFT JOIN CENSUS_DATA CE\n",
    "ON CR.COMMUNITY_AREA_NUMBER = CE.COMMUNITY_AREA_NUMBER\n",
    "WHERE CR.LOCATION_DESCRIPTION LIKE '%SCHOOL%'"
   ]
  },
  {
   "cell_type": "code",
   "execution_count": 48,
   "id": "731c3970-93ba-4a02-8326-2fc0d9478251",
   "metadata": {},
   "outputs": [
    {
     "name": "stdout",
     "output_type": "stream",
     "text": [
      " * ibm_db_sa://cqp94711:***@fbd88901-ebdb-4a4f-a32e-9822b9fb237b.c1ogj3sd0tgtu0lqde00.databases.appdomain.cloud:32731/BLUDB\n",
      "Done.\n"
     ]
    },
    {
     "data": {
      "text/plain": [
       "[]"
      ]
     },
     "execution_count": 48,
     "metadata": {},
     "output_type": "execute_result"
    }
   ],
   "source": [
    "%%sql\n",
    "CREATE OR REPLACE VIEW SCHOOL_INFO_VIEW (SCHOOL_NAME, SAFETY_RATING, FAMILY_RATING, ENVIRONMENT_RATING,\n",
    "                                         INSTRUCTION_RATING, LEADERS_RATING, TEACHERS_RATING)\n",
    "AS SELECT NAME_OF_SCHOOL, SAFETY_ICON, FAMILY_INVOLVEMENT_ICON, ENVIRONMENT_ICON,\n",
    "INSTRUCTION_ICON, LEADERS_ICON, TEACHERS_ICON FROM PUBLIC_SCHOOLS"
   ]
  },
  {
   "cell_type": "code",
   "execution_count": 49,
   "id": "f659be78-a244-4bdb-86b9-65d0d0b31b83",
   "metadata": {},
   "outputs": [
    {
     "name": "stdout",
     "output_type": "stream",
     "text": [
      " * ibm_db_sa://cqp94711:***@fbd88901-ebdb-4a4f-a32e-9822b9fb237b.c1ogj3sd0tgtu0lqde00.databases.appdomain.cloud:32731/BLUDB\n",
      "Done.\n"
     ]
    },
    {
     "data": {
      "text/html": [
       "<table>\n",
       "    <thead>\n",
       "        <tr>\n",
       "            <th>school_name</th>\n",
       "            <th>leaders_rating</th>\n",
       "        </tr>\n",
       "    </thead>\n",
       "    <tbody>\n",
       "        <tr>\n",
       "            <td>Abraham Lincoln Elementary School</td>\n",
       "            <td>Weak</td>\n",
       "        </tr>\n",
       "        <tr>\n",
       "            <td>Adam Clayton Powell Paideia Community Academy Elementary School</td>\n",
       "            <td>Weak</td>\n",
       "        </tr>\n",
       "        <tr>\n",
       "            <td>Adlai E Stevenson Elementary School</td>\n",
       "            <td>Weak</td>\n",
       "        </tr>\n",
       "        <tr>\n",
       "            <td>Agustin Lara Elementary Academy</td>\n",
       "            <td>Weak</td>\n",
       "        </tr>\n",
       "        <tr>\n",
       "            <td>Air Force Academy High School</td>\n",
       "            <td>Weak</td>\n",
       "        </tr>\n",
       "    </tbody>\n",
       "</table>"
      ],
      "text/plain": [
       "[('Abraham Lincoln Elementary School', 'Weak'),\n",
       " ('Adam Clayton Powell Paideia Community Academy Elementary School', 'Weak'),\n",
       " ('Adlai E Stevenson Elementary School', 'Weak'),\n",
       " ('Agustin Lara Elementary Academy', 'Weak'),\n",
       " ('Air Force Academy High School', 'Weak')]"
      ]
     },
     "execution_count": 49,
     "metadata": {},
     "output_type": "execute_result"
    }
   ],
   "source": [
    "%%sql\n",
    "SELECT SCHOOL_NAME, LEADERS_RATING FROM SCHOOL_INFO_VIEW LIMIT 5"
   ]
  },
  {
   "cell_type": "code",
   "execution_count": 51,
   "id": "ee7b8aa9-2614-4eb1-ad62-bacd3ef376ba",
   "metadata": {},
   "outputs": [
    {
     "name": "stdout",
     "output_type": "stream",
     "text": [
      " * ibm_db_sa://cqp94711:***@fbd88901-ebdb-4a4f-a32e-9822b9fb237b.c1ogj3sd0tgtu0lqde00.databases.appdomain.cloud:32731/BLUDB\n",
      "Done.\n"
     ]
    },
    {
     "data": {
      "text/plain": [
       "[]"
      ]
     },
     "execution_count": 51,
     "metadata": {},
     "output_type": "execute_result"
    }
   ],
   "source": [
    "%%sql\n",
    "CREATE OR REPLACE PROCEDURE UPDATE_LEADERS_SCORE (IN IN_SCHOOL_ID INTEGER, IN IN_LEADERS_SCORE INTEGER)\n",
    "\n",
    "LANGUAGE SQL\n",
    "MODIFIES SQL DATA\n",
    "\n",
    "BEGIN\n",
    "    \n",
    "    UPDATE PUBLIC_SCHOOLS\n",
    "    SET LEADERS_SCORE = IN_LEADERS_SCORE\n",
    "    WHERE SCHOOL_ID = IN_SCHOOL_ID;\n",
    "    \n",
    "    IF IN_LEADERS_SCORE BETWEEN 80 AND 99 THEN\n",
    "        UPDATE PUBLIC_SCHOOLS\n",
    "        SET LEADERS_ICON = 'Very strong'\n",
    "        WHERE SCHOOL_ID = IN_SCHOOL_ID;\n",
    "        \n",
    "    ELSEIF IN_LEADERS_SCORE BETWEEN 60 AND 79 THEN\n",
    "        UPDATE PUBLIC_SCHOOLS\n",
    "        SET LEADERS_ICON = 'Strong'\n",
    "        WHERE SCHOOL_ID = IN_SCHOOL_ID;\n",
    "        \n",
    "    ELSEIF IN_LEADERS_SCORE BETWEEN 40 AND 59 THEN\n",
    "        UPDATE PUBLIC_SCHOOLS\n",
    "        SET LEADERS_ICON = 'Average'\n",
    "        WHERE SCHOOL_ID = IN_SCHOOL_ID;\n",
    "        \n",
    "    ELSEIF IN_LEADERS_SCORE BETWEEN 20 AND 39 THEN\n",
    "        UPDATE PUBLIC_SCHOOLS\n",
    "        SET LEADERS_ICON = 'Weak'\n",
    "        WHERE SCHOOL_ID = IN_SCHOOL_ID;\n",
    "        \n",
    "    ELSEIF IN_LEADERS_SCORE BETWEEN 0 AND 19 THEN\n",
    "        UPDATE PUBLIC_SCHOOLS\n",
    "        SET LEADERS_ICON = 'Very weak'\n",
    "        WHERE SCHOOL_ID = IN_SCHOOL_ID;\n",
    "        \n",
    "    END IF;\n",
    "END"
   ]
  },
  {
   "cell_type": "code",
   "execution_count": 52,
   "id": "680490ab-9668-403d-9399-455dce131116",
   "metadata": {},
   "outputs": [
    {
     "name": "stdout",
     "output_type": "stream",
     "text": [
      " * ibm_db_sa://cqp94711:***@fbd88901-ebdb-4a4f-a32e-9822b9fb237b.c1ogj3sd0tgtu0lqde00.databases.appdomain.cloud:32731/BLUDB\n",
      "Done.\n"
     ]
    },
    {
     "data": {
      "text/html": [
       "<table>\n",
       "    <thead>\n",
       "        <tr>\n",
       "            <th>school_id</th>\n",
       "            <th>leaders_score</th>\n",
       "            <th>leaders_icon</th>\n",
       "        </tr>\n",
       "    </thead>\n",
       "    <tbody>\n",
       "        <tr>\n",
       "            <td>610038</td>\n",
       "            <td>38</td>\n",
       "            <td>Weak</td>\n",
       "        </tr>\n",
       "    </tbody>\n",
       "</table>"
      ],
      "text/plain": [
       "[(610038, '38', 'Weak')]"
      ]
     },
     "execution_count": 52,
     "metadata": {},
     "output_type": "execute_result"
    }
   ],
   "source": [
    "%sql SELECT SCHOOL_ID, LEADERS_SCORE, LEADERS_ICON FROM PUBLIC_SCHOOLS LIMIT 1"
   ]
  },
  {
   "cell_type": "code",
   "execution_count": 53,
   "id": "afe185e6-3702-414a-bfac-94b15bbfad3a",
   "metadata": {},
   "outputs": [
    {
     "name": "stdout",
     "output_type": "stream",
     "text": [
      " * ibm_db_sa://cqp94711:***@fbd88901-ebdb-4a4f-a32e-9822b9fb237b.c1ogj3sd0tgtu0lqde00.databases.appdomain.cloud:32731/BLUDB\n",
      "Done.\n"
     ]
    },
    {
     "data": {
      "text/plain": [
       "[]"
      ]
     },
     "execution_count": 53,
     "metadata": {},
     "output_type": "execute_result"
    }
   ],
   "source": [
    "%sql CALL UPDATE_LEADERS_SCORE (610038, 50)"
   ]
  },
  {
   "cell_type": "code",
   "execution_count": 54,
   "id": "9f211327-6d13-43b6-a99f-c7ece9fe1faa",
   "metadata": {},
   "outputs": [
    {
     "name": "stdout",
     "output_type": "stream",
     "text": [
      " * ibm_db_sa://cqp94711:***@fbd88901-ebdb-4a4f-a32e-9822b9fb237b.c1ogj3sd0tgtu0lqde00.databases.appdomain.cloud:32731/BLUDB\n",
      "Done.\n"
     ]
    },
    {
     "data": {
      "text/html": [
       "<table>\n",
       "    <thead>\n",
       "        <tr>\n",
       "            <th>school_id</th>\n",
       "            <th>leaders_score</th>\n",
       "            <th>leaders_icon</th>\n",
       "        </tr>\n",
       "    </thead>\n",
       "    <tbody>\n",
       "        <tr>\n",
       "            <td>610038</td>\n",
       "            <td>50</td>\n",
       "            <td>Average</td>\n",
       "        </tr>\n",
       "    </tbody>\n",
       "</table>"
      ],
      "text/plain": [
       "[(610038, '50', 'Average')]"
      ]
     },
     "execution_count": 54,
     "metadata": {},
     "output_type": "execute_result"
    }
   ],
   "source": [
    "%sql SELECT SCHOOL_ID, LEADERS_SCORE, LEADERS_ICON FROM PUBLIC_SCHOOLS LIMIT 1"
   ]
  },
  {
   "cell_type": "code",
   "execution_count": 56,
   "id": "2c437716-3526-459c-b584-679831c3c213",
   "metadata": {},
   "outputs": [
    {
     "name": "stdout",
     "output_type": "stream",
     "text": [
      " * ibm_db_sa://cqp94711:***@fbd88901-ebdb-4a4f-a32e-9822b9fb237b.c1ogj3sd0tgtu0lqde00.databases.appdomain.cloud:32731/BLUDB\n",
      "Done.\n"
     ]
    },
    {
     "data": {
      "text/plain": [
       "[]"
      ]
     },
     "execution_count": 56,
     "metadata": {},
     "output_type": "execute_result"
    }
   ],
   "source": [
    "%%sql\n",
    "CREATE OR REPLACE PROCEDURE UPDATE_LEADERS_SCORE (IN IN_SCHOOL_ID INTEGER, IN IN_LEADERS_SCORE INTEGER)\n",
    "LANGUAGE SQL\n",
    "MODIFIES SQL DATA\n",
    "BEGIN  \n",
    "    UPDATE PUBLIC_SCHOOLS\n",
    "    SET LEADERS_SCORE = IN_LEADERS_SCORE\n",
    "    WHERE SCHOOL_ID = IN_SCHOOL_ID;\n",
    "    IF IN_LEADERS_SCORE BETWEEN 80 AND 99 THEN\n",
    "        UPDATE PUBLIC_SCHOOLS\n",
    "        SET LEADERS_ICON = 'Very strong'\n",
    "        WHERE SCHOOL_ID = IN_SCHOOL_ID;\n",
    "    ELSEIF IN_LEADERS_SCORE BETWEEN 60 AND 79 THEN\n",
    "        UPDATE PUBLIC_SCHOOLS\n",
    "        SET LEADERS_ICON = 'Strong'\n",
    "        WHERE SCHOOL_ID = IN_SCHOOL_ID;\n",
    "    ELSEIF IN_LEADERS_SCORE BETWEEN 40 AND 59 THEN\n",
    "        UPDATE PUBLIC_SCHOOLS\n",
    "        SET LEADERS_ICON = 'Average'\n",
    "        WHERE SCHOOL_ID = IN_SCHOOL_ID;\n",
    "    ELSEIF IN_LEADERS_SCORE BETWEEN 20 AND 39 THEN\n",
    "        UPDATE PUBLIC_SCHOOLS\n",
    "        SET LEADERS_ICON = 'Weak'\n",
    "        WHERE SCHOOL_ID = IN_SCHOOL_ID;\n",
    "    ELSEIF IN_LEADERS_SCORE BETWEEN 0 AND 19 THEN\n",
    "        UPDATE PUBLIC_SCHOOLS\n",
    "        SET LEADERS_ICON = 'Very weak'\n",
    "        WHERE SCHOOL_ID = IN_SCHOOL_ID;\n",
    "    ELSE\n",
    "        ROLLBACK WORK;\n",
    "    END IF;\n",
    "    COMMIT WORK;\n",
    "END"
   ]
  },
  {
   "cell_type": "code",
   "execution_count": 57,
   "id": "936f5bd3-17ad-4cd7-87db-62bca49a28f4",
   "metadata": {},
   "outputs": [
    {
     "name": "stdout",
     "output_type": "stream",
     "text": [
      " * ibm_db_sa://cqp94711:***@fbd88901-ebdb-4a4f-a32e-9822b9fb237b.c1ogj3sd0tgtu0lqde00.databases.appdomain.cloud:32731/BLUDB\n",
      "Done.\n"
     ]
    },
    {
     "data": {
      "text/html": [
       "<table>\n",
       "    <thead>\n",
       "        <tr>\n",
       "            <th>school_id</th>\n",
       "            <th>leaders_score</th>\n",
       "            <th>leaders_icon</th>\n",
       "        </tr>\n",
       "    </thead>\n",
       "    <tbody>\n",
       "        <tr>\n",
       "            <td>610038</td>\n",
       "            <td>50</td>\n",
       "            <td>Average</td>\n",
       "        </tr>\n",
       "    </tbody>\n",
       "</table>"
      ],
      "text/plain": [
       "[(610038, '50', 'Average')]"
      ]
     },
     "execution_count": 57,
     "metadata": {},
     "output_type": "execute_result"
    }
   ],
   "source": [
    "%sql SELECT SCHOOL_ID, LEADERS_SCORE, LEADERS_ICON FROM PUBLIC_SCHOOLS LIMIT 1"
   ]
  },
  {
   "cell_type": "code",
   "execution_count": 58,
   "id": "38146f2d-74b6-4f11-8595-9f733e4df23e",
   "metadata": {},
   "outputs": [
    {
     "name": "stdout",
     "output_type": "stream",
     "text": [
      " * ibm_db_sa://cqp94711:***@fbd88901-ebdb-4a4f-a32e-9822b9fb237b.c1ogj3sd0tgtu0lqde00.databases.appdomain.cloud:32731/BLUDB\n",
      "Done.\n"
     ]
    },
    {
     "data": {
      "text/plain": [
       "[]"
      ]
     },
     "execution_count": 58,
     "metadata": {},
     "output_type": "execute_result"
    }
   ],
   "source": [
    "%sql CALL UPDATE_LEADERS_SCORE (610038, 38)"
   ]
  },
  {
   "cell_type": "code",
   "execution_count": 59,
   "id": "cc060c85-702c-4338-8f9f-3fc3778ce582",
   "metadata": {},
   "outputs": [
    {
     "name": "stdout",
     "output_type": "stream",
     "text": [
      " * ibm_db_sa://cqp94711:***@fbd88901-ebdb-4a4f-a32e-9822b9fb237b.c1ogj3sd0tgtu0lqde00.databases.appdomain.cloud:32731/BLUDB\n",
      "Done.\n"
     ]
    },
    {
     "data": {
      "text/html": [
       "<table>\n",
       "    <thead>\n",
       "        <tr>\n",
       "            <th>school_id</th>\n",
       "            <th>leaders_score</th>\n",
       "            <th>leaders_icon</th>\n",
       "        </tr>\n",
       "    </thead>\n",
       "    <tbody>\n",
       "        <tr>\n",
       "            <td>610038</td>\n",
       "            <td>38</td>\n",
       "            <td>Weak</td>\n",
       "        </tr>\n",
       "    </tbody>\n",
       "</table>"
      ],
      "text/plain": [
       "[(610038, '38', 'Weak')]"
      ]
     },
     "execution_count": 59,
     "metadata": {},
     "output_type": "execute_result"
    }
   ],
   "source": [
    "%sql SELECT SCHOOL_ID, LEADERS_SCORE, LEADERS_ICON FROM PUBLIC_SCHOOLS LIMIT 1"
   ]
  },
  {
   "cell_type": "code",
   "execution_count": 60,
   "id": "1fd5b7c1-cc39-4d06-b2c3-f9ee38a963c2",
   "metadata": {},
   "outputs": [
    {
     "name": "stdout",
     "output_type": "stream",
     "text": [
      " * ibm_db_sa://cqp94711:***@fbd88901-ebdb-4a4f-a32e-9822b9fb237b.c1ogj3sd0tgtu0lqde00.databases.appdomain.cloud:32731/BLUDB\n",
      "Done.\n"
     ]
    },
    {
     "data": {
      "text/plain": [
       "[]"
      ]
     },
     "execution_count": 60,
     "metadata": {},
     "output_type": "execute_result"
    }
   ],
   "source": [
    "%sql CALL UPDATE_LEADERS_SCORE (610038, 101)"
   ]
  },
  {
   "cell_type": "code",
   "execution_count": 61,
   "id": "a67546df-5b64-497f-bd4d-4f1499047f17",
   "metadata": {},
   "outputs": [
    {
     "name": "stdout",
     "output_type": "stream",
     "text": [
      " * ibm_db_sa://cqp94711:***@fbd88901-ebdb-4a4f-a32e-9822b9fb237b.c1ogj3sd0tgtu0lqde00.databases.appdomain.cloud:32731/BLUDB\n",
      "Done.\n"
     ]
    },
    {
     "data": {
      "text/html": [
       "<table>\n",
       "    <thead>\n",
       "        <tr>\n",
       "            <th>school_id</th>\n",
       "            <th>leaders_score</th>\n",
       "            <th>leaders_icon</th>\n",
       "        </tr>\n",
       "    </thead>\n",
       "    <tbody>\n",
       "        <tr>\n",
       "            <td>610038</td>\n",
       "            <td>38</td>\n",
       "            <td>Weak</td>\n",
       "        </tr>\n",
       "    </tbody>\n",
       "</table>"
      ],
      "text/plain": [
       "[(610038, '38', 'Weak')]"
      ]
     },
     "execution_count": 61,
     "metadata": {},
     "output_type": "execute_result"
    }
   ],
   "source": [
    "%sql SELECT SCHOOL_ID, LEADERS_SCORE, LEADERS_ICON FROM PUBLIC_SCHOOLS LIMIT 1"
   ]
  },
  {
   "cell_type": "code",
   "execution_count": null,
   "id": "206111c0-c887-4759-9dd4-3bc6978043ca",
   "metadata": {},
   "outputs": [],
   "source": []
  }
 ],
 "metadata": {
  "kernelspec": {
   "display_name": "Python",
   "language": "python",
   "name": "conda-env-python-py"
  },
  "language_info": {
   "codemirror_mode": {
    "name": "ipython",
    "version": 3
   },
   "file_extension": ".py",
   "mimetype": "text/x-python",
   "name": "python",
   "nbconvert_exporter": "python",
   "pygments_lexer": "ipython3",
   "version": "3.7.10"
  }
 },
 "nbformat": 4,
 "nbformat_minor": 5
}
